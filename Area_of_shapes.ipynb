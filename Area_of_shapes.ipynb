{
  "nbformat": 4,
  "nbformat_minor": 0,
  "metadata": {
    "colab": {
      "provenance": [],
      "authorship_tag": "ABX9TyOhfskLq/r1NlG2yyOUiEwE",
      "include_colab_link": true
    },
    "kernelspec": {
      "name": "python3",
      "display_name": "Python 3"
    },
    "language_info": {
      "name": "python"
    }
  },
  "cells": [
    {
      "cell_type": "markdown",
      "metadata": {
        "id": "view-in-github",
        "colab_type": "text"
      },
      "source": [
        "<a href=\"https://colab.research.google.com/github/dom17-1/area-of-shapes/blob/main/Area_of_shapes.ipynb\" target=\"_parent\"><img src=\"https://colab.research.google.com/assets/colab-badge.svg\" alt=\"Open In Colab\"/></a>"
      ]
    },
    {
      "cell_type": "code",
      "source": [
        "import math\n",
        "print(\"1:Area of a rectangle\")\n",
        "print(\"2:Area of a circle\")\n",
        "print(\"3:Area of a triangle\")\n",
        "\n",
        "choice=int(input(\"\"))\n",
        "\n",
        "if choice==1:\n",
        " length=int(input('Enter length'))\n",
        " width=int(input('Enter witdh'))\n",
        " area=length*width\n",
        " print(area)\n",
        "\n",
        "elif choice==2:\n",
        " radius=int(input('Enter radius'))\n",
        " area=22/7*(radius*radius)\n",
        " print(area)\n",
        "\n",
        "elif choice==3:\n",
        " base=int(input('Enter base'))\n",
        " height=int(input('Enter height'))\n",
        " area=1/2*base*height\n",
        " print(area)\n"
      ],
      "metadata": {
        "colab": {
          "base_uri": "https://localhost:8080/"
        },
        "id": "wxnHyvhhonca",
        "outputId": "a670b20b-372c-40bd-d792-ab0739393abf"
      },
      "execution_count": null,
      "outputs": [
        {
          "output_type": "stream",
          "name": "stdout",
          "text": [
            "1:Area of a rectangle\n",
            "2:Area of a circle\n",
            "3:Area of a triangle\n",
            "1\n",
            "Enter length5\n",
            "Enter witdh9\n",
            "45\n"
          ]
        }
      ]
    }
  ]
}